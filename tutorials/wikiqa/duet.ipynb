{
 "cells": [
  {
   "cell_type": "code",
   "execution_count": 1,
   "metadata": {},
   "outputs": [
    {
     "name": "stderr",
     "output_type": "stream",
     "text": [
      "Using TensorFlow backend.\n"
     ]
    },
    {
     "name": "stdout",
     "output_type": "stream",
     "text": [
      "matchzoo version 2.1.0\n",
      "\n",
      "data loading ...\n",
      "data loaded as `train_pack_raw` `dev_pack_raw` `test_pack_raw`\n",
      "`ranking_task` initialized with metrics [normalized_discounted_cumulative_gain@3(0.0), normalized_discounted_cumulative_gain@5(0.0), mean_average_precision(0.0)]\n",
      "loading embedding ...\n",
      "embedding loaded as `glove_embedding`\n"
     ]
    }
   ],
   "source": [
    "%run init.ipynb"
   ]
  },
  {
   "cell_type": "code",
   "execution_count": 2,
   "metadata": {},
   "outputs": [],
   "source": [
    "preprocessor = mz.preprocessors.BasicPreprocessor(fixed_length_left=10, fixed_length_right=100, remove_stop_words=False)"
   ]
  },
  {
   "cell_type": "code",
   "execution_count": 3,
   "metadata": {},
   "outputs": [
    {
     "name": "stderr",
     "output_type": "stream",
     "text": [
      "Processing text_left with chain_transform of Tokenize => Lowercase => PuncRemoval: 100%|██████████| 2118/2118 [00:00<00:00, 8419.76it/s]\n",
      "Processing text_right with chain_transform of Tokenize => Lowercase => PuncRemoval: 100%|██████████| 18841/18841 [00:04<00:00, 4670.32it/s]\n",
      "Processing text_right with append: 100%|██████████| 18841/18841 [00:00<00:00, 787014.19it/s]\n",
      "Building FrequencyFilter from a datapack.: 100%|██████████| 18841/18841 [00:00<00:00, 140628.43it/s]\n",
      "Processing text_right with transform: 100%|██████████| 18841/18841 [00:00<00:00, 145535.46it/s]\n",
      "Processing text_left with extend: 100%|██████████| 2118/2118 [00:00<00:00, 702700.20it/s]\n",
      "Processing text_right with extend: 100%|██████████| 18841/18841 [00:00<00:00, 638786.22it/s]\n",
      "Building Vocabulary from a datapack.: 100%|██████████| 404432/404432 [00:00<00:00, 2626848.03it/s]\n",
      "Processing text_left with chain_transform of Tokenize => Lowercase => PuncRemoval: 100%|██████████| 2118/2118 [00:00<00:00, 9224.95it/s]\n",
      "Processing text_right with chain_transform of Tokenize => Lowercase => PuncRemoval: 100%|██████████| 18841/18841 [00:03<00:00, 4970.49it/s]\n",
      "Processing text_right with transform: 100%|██████████| 18841/18841 [00:00<00:00, 83049.46it/s]\n",
      "Processing text_left with transform: 100%|██████████| 2118/2118 [00:00<00:00, 153420.99it/s]\n",
      "Processing text_right with transform: 100%|██████████| 18841/18841 [00:00<00:00, 123093.06it/s]\n",
      "Processing length_left with len: 100%|██████████| 2118/2118 [00:00<00:00, 628300.15it/s]\n",
      "Processing length_right with len: 100%|██████████| 18841/18841 [00:00<00:00, 684482.57it/s]\n",
      "Processing text_left with transform: 100%|██████████| 2118/2118 [00:00<00:00, 111846.70it/s]\n",
      "Processing text_right with transform: 100%|██████████| 18841/18841 [00:00<00:00, 76389.45it/s]\n",
      "Processing text_left with chain_transform of Tokenize => Lowercase => PuncRemoval: 100%|██████████| 122/122 [00:00<00:00, 9179.06it/s]\n",
      "Processing text_right with chain_transform of Tokenize => Lowercase => PuncRemoval: 100%|██████████| 1115/1115 [00:00<00:00, 4929.57it/s]\n",
      "Processing text_right with transform: 100%|██████████| 1115/1115 [00:00<00:00, 66520.38it/s]\n",
      "Processing text_left with transform: 100%|██████████| 122/122 [00:00<00:00, 103646.97it/s]\n",
      "Processing text_right with transform: 100%|██████████| 1115/1115 [00:00<00:00, 111476.19it/s]\n",
      "Processing length_left with len: 100%|██████████| 122/122 [00:00<00:00, 157061.11it/s]\n",
      "Processing length_right with len: 100%|██████████| 1115/1115 [00:00<00:00, 439658.64it/s]\n",
      "Processing text_left with transform: 100%|██████████| 122/122 [00:00<00:00, 71848.51it/s]\n",
      "Processing text_right with transform: 100%|██████████| 1115/1115 [00:00<00:00, 71805.94it/s]\n",
      "Processing text_left with chain_transform of Tokenize => Lowercase => PuncRemoval: 100%|██████████| 237/237 [00:00<00:00, 8505.02it/s]\n",
      "Processing text_right with chain_transform of Tokenize => Lowercase => PuncRemoval: 100%|██████████| 2300/2300 [00:00<00:00, 4902.46it/s]\n",
      "Processing text_right with transform: 100%|██████████| 2300/2300 [00:00<00:00, 124811.10it/s]\n",
      "Processing text_left with transform: 100%|██████████| 237/237 [00:00<00:00, 136376.74it/s]\n",
      "Processing text_right with transform: 100%|██████████| 2300/2300 [00:00<00:00, 102825.68it/s]\n",
      "Processing length_left with len: 100%|██████████| 237/237 [00:00<00:00, 150090.60it/s]\n",
      "Processing length_right with len: 100%|██████████| 2300/2300 [00:00<00:00, 534128.74it/s]\n",
      "Processing text_left with transform: 100%|██████████| 237/237 [00:00<00:00, 92323.77it/s]\n",
      "Processing text_right with transform: 100%|██████████| 2300/2300 [00:00<00:00, 72274.41it/s]\n"
     ]
    }
   ],
   "source": [
    "train_pack_processed = preprocessor.fit_transform(train_pack_raw)\n",
    "dev_pack_processed = preprocessor.transform(dev_pack_raw)\n",
    "test_pack_processed = preprocessor.transform(test_pack_raw)"
   ]
  },
  {
   "cell_type": "code",
   "execution_count": 4,
   "metadata": {},
   "outputs": [
    {
     "data": {
      "text/plain": [
       "{'filter_unit': <matchzoo.preprocessors.units.frequency_filter.FrequencyFilter at 0x111beb4e0>,\n",
       " 'vocab_unit': <matchzoo.preprocessors.units.vocabulary.Vocabulary at 0x135b2b320>,\n",
       " 'vocab_size': 16674,\n",
       " 'embedding_input_dim': 16674,\n",
       " 'input_shapes': [(10,), (100,)]}"
      ]
     },
     "execution_count": 4,
     "metadata": {},
     "output_type": "execute_result"
    }
   ],
   "source": [
    "preprocessor.context"
   ]
  },
  {
   "cell_type": "code",
   "execution_count": 5,
   "metadata": {},
   "outputs": [
    {
     "name": "stdout",
     "output_type": "stream",
     "text": [
      "model_class                   <class 'matchzoo.models.duet.DUET'>\n",
      "input_shapes                  [(10,), (100,)]\n",
      "task                          Ranking Task\n",
      "optimizer                     adagrad\n",
      "with_embedding                True\n",
      "embedding_input_dim           16674\n",
      "embedding_output_dim          100\n",
      "embedding_trainable           True\n",
      "lm_filters                    32\n",
      "lm_hidden_sizes               [32]\n",
      "dm_filters                    32\n",
      "dm_kernel_size                3\n",
      "dm_q_hidden_size              32\n",
      "dm_d_mpool                    4\n",
      "dm_hidden_sizes               [32]\n",
      "padding                       same\n",
      "activation_func               relu\n",
      "dropout_rate                  0.5\n"
     ]
    }
   ],
   "source": [
    "model = mz.models.DUET()\n",
    "\n",
    "# load `input_shapes` and `embedding_input_dim` (vocab_size)\n",
    "model.params.update(preprocessor.context)\n",
    "\n",
    "model.params['task'] = ranking_task\n",
    "model.params['embedding_output_dim'] = glove_embedding.output_dim\n",
    "model.params['embedding_trainable'] = True\n",
    "model.params['lm_filters'] = 32\n",
    "model.params['lm_hidden_sizes'] = [32]\n",
    "model.params['dm_filters'] = 32\n",
    "model.params['dm_kernel_size'] = 3\n",
    "model.params['dm_d_mpool'] = 4\n",
    "model.params['dm_hidden_sizes'] = [32]\n",
    "model.params['dropout_rate'] = 0.5\n",
    "model.params['optimizer'] = 'adagrad'\n",
    "\n",
    "model.build()\n",
    "model.compile()\n",
    "\n",
    "print(model.params)"
   ]
  },
  {
   "cell_type": "code",
   "execution_count": 6,
   "metadata": {},
   "outputs": [
    {
     "name": "stdout",
     "output_type": "stream",
     "text": [
      "__________________________________________________________________________________________________\n",
      "Layer (type)                    Output Shape         Param #     Connected to                     \n",
      "==================================================================================================\n",
      "text_left (InputLayer)          (None, 10)           0                                            \n",
      "__________________________________________________________________________________________________\n",
      "text_right (InputLayer)         (None, 100)          0                                            \n",
      "__________________________________________________________________________________________________\n",
      "embedding (Embedding)           multiple             1667400     text_left[0][0]                  \n",
      "                                                                 text_right[0][0]                 \n",
      "__________________________________________________________________________________________________\n",
      "conv1d_2 (Conv1D)               (None, 10, 32)       9632        embedding[0][0]                  \n",
      "__________________________________________________________________________________________________\n",
      "dropout_3 (Dropout)             (None, 10, 32)       0           conv1d_2[0][0]                   \n",
      "__________________________________________________________________________________________________\n",
      "conv1d_3 (Conv1D)               (None, 100, 32)      9632        embedding[1][0]                  \n",
      "__________________________________________________________________________________________________\n",
      "max_pooling1d_1 (MaxPooling1D)  (None, 1, 32)        0           dropout_3[0][0]                  \n",
      "__________________________________________________________________________________________________\n",
      "dropout_4 (Dropout)             (None, 100, 32)      0           conv1d_3[0][0]                   \n",
      "__________________________________________________________________________________________________\n",
      "reshape_2 (Reshape)             (None, 32)           0           max_pooling1d_1[0][0]            \n",
      "__________________________________________________________________________________________________\n",
      "max_pooling1d_2 (MaxPooling1D)  (None, 25, 32)       0           dropout_4[0][0]                  \n",
      "__________________________________________________________________________________________________\n",
      "lambda_1 (Lambda)               (None, 10, 100)      0           text_left[0][0]                  \n",
      "                                                                 text_right[0][0]                 \n",
      "__________________________________________________________________________________________________\n",
      "dense_3 (Dense)                 (None, 32)           1056        reshape_2[0][0]                  \n",
      "__________________________________________________________________________________________________\n",
      "conv1d_4 (Conv1D)               (None, 25, 32)       1056        max_pooling1d_2[0][0]            \n",
      "__________________________________________________________________________________________________\n",
      "conv1d_1 (Conv1D)               (None, 10, 32)       320032      lambda_1[0][0]                   \n",
      "__________________________________________________________________________________________________\n",
      "lambda_2 (Lambda)               (None, 1, 32)        0           dense_3[0][0]                    \n",
      "__________________________________________________________________________________________________\n",
      "dropout_5 (Dropout)             (None, 25, 32)       0           conv1d_4[0][0]                   \n",
      "__________________________________________________________________________________________________\n",
      "dropout_1 (Dropout)             (None, 10, 32)       0           conv1d_1[0][0]                   \n",
      "__________________________________________________________________________________________________\n",
      "lambda_3 (Lambda)               (None, 25, 32)       0           lambda_2[0][0]                   \n",
      "                                                                 dropout_5[0][0]                  \n",
      "__________________________________________________________________________________________________\n",
      "reshape_1 (Reshape)             (None, 320)          0           dropout_1[0][0]                  \n",
      "__________________________________________________________________________________________________\n",
      "reshape_3 (Reshape)             (None, 800)          0           lambda_3[0][0]                   \n",
      "__________________________________________________________________________________________________\n",
      "dense_1 (Dense)                 (None, 32)           10272       reshape_1[0][0]                  \n",
      "__________________________________________________________________________________________________\n",
      "dense_4 (Dense)                 (None, 32)           25632       reshape_3[0][0]                  \n",
      "__________________________________________________________________________________________________\n",
      "dropout_2 (Dropout)             (None, 32)           0           dense_1[0][0]                    \n",
      "__________________________________________________________________________________________________\n",
      "dropout_6 (Dropout)             (None, 32)           0           dense_4[0][0]                    \n",
      "__________________________________________________________________________________________________\n",
      "dense_2 (Dense)                 (None, 1)            33          dropout_2[0][0]                  \n",
      "__________________________________________________________________________________________________\n",
      "dense_5 (Dense)                 (None, 1)            33          dropout_6[0][0]                  \n",
      "__________________________________________________________________________________________________\n",
      "add_1 (Add)                     (None, 1)            0           dense_2[0][0]                    \n",
      "                                                                 dense_5[0][0]                    \n",
      "__________________________________________________________________________________________________\n",
      "dense_6 (Dense)                 (None, 1)            2           add_1[0][0]                      \n",
      "==================================================================================================\n",
      "Total params: 2,044,780\n",
      "Trainable params: 2,044,780\n",
      "Non-trainable params: 0\n",
      "__________________________________________________________________________________________________\n"
     ]
    }
   ],
   "source": [
    "model.backend.summary()"
   ]
  },
  {
   "cell_type": "code",
   "execution_count": 7,
   "metadata": {},
   "outputs": [],
   "source": [
    "term_index = preprocessor.context['vocab_unit'].state['term_index']\n",
    "embedding_matrix = glove_embedding.build_matrix(term_index)\n",
    "l2_norm = np.sqrt((embedding_matrix * embedding_matrix).sum(axis=1))\n",
    "embedding_matrix = embedding_matrix / l2_norm[:, np.newaxis]"
   ]
  },
  {
   "cell_type": "code",
   "execution_count": 8,
   "metadata": {},
   "outputs": [],
   "source": [
    "model.load_embedding_matrix(embedding_matrix)"
   ]
  },
  {
   "cell_type": "code",
   "execution_count": 9,
   "metadata": {},
   "outputs": [],
   "source": [
    "test_x, test_y = test_pack_processed.unpack()\n",
    "evaluate = mz.callbacks.EvaluateAllMetrics(model, x=test_x, y=test_y, batch_size=len(test_x))"
   ]
  },
  {
   "cell_type": "code",
   "execution_count": 10,
   "metadata": {},
   "outputs": [
    {
     "name": "stdout",
     "output_type": "stream",
     "text": [
      "num batches: 102\n"
     ]
    }
   ],
   "source": [
    "train_generator = mz.DataGenerator(\n",
    "    train_pack_processed,\n",
    "    mode='pair',\n",
    "    num_dup=2,\n",
    "    num_neg=1,\n",
    "    batch_size=20\n",
    ")\n",
    "print('num batches:', len(train_generator))"
   ]
  },
  {
   "cell_type": "code",
   "execution_count": 11,
   "metadata": {},
   "outputs": [
    {
     "name": "stdout",
     "output_type": "stream",
     "text": [
      "Epoch 1/30\n",
      "102/102 [==============================] - 4s 39ms/step - loss: 0.8772\n",
      "Validation: normalized_discounted_cumulative_gain@3(0.0): 0.4580984845812892 - normalized_discounted_cumulative_gain@5(0.0): 0.5292475531391599 - mean_average_precision(0.0): 0.49045044430509527\n",
      "Epoch 2/30\n",
      "102/102 [==============================] - 6s 56ms/step - loss: 0.6112\n",
      "Validation: normalized_discounted_cumulative_gain@3(0.0): 0.5702800514952101 - normalized_discounted_cumulative_gain@5(0.0): 0.6329332893788385 - mean_average_precision(0.0): 0.585411336972796\n",
      "Epoch 3/30\n",
      "102/102 [==============================] - 6s 59ms/step - loss: 0.3512\n",
      "Validation: normalized_discounted_cumulative_gain@3(0.0): 0.5520530433717853 - normalized_discounted_cumulative_gain@5(0.0): 0.6166989840324851 - mean_average_precision(0.0): 0.5661811400902007\n",
      "Epoch 4/30\n",
      "102/102 [==============================] - 6s 64ms/step - loss: 0.2440\n",
      "Validation: normalized_discounted_cumulative_gain@3(0.0): 0.5467697804683268 - normalized_discounted_cumulative_gain@5(0.0): 0.6155771069075623 - mean_average_precision(0.0): 0.564882644313024\n",
      "Epoch 5/30\n",
      "102/102 [==============================] - 6s 59ms/step - loss: 0.1495\n",
      "Validation: normalized_discounted_cumulative_gain@3(0.0): 0.5387731159584733 - normalized_discounted_cumulative_gain@5(0.0): 0.6074953299552596 - mean_average_precision(0.0): 0.5587677859621565\n",
      "Epoch 6/30\n",
      "102/102 [==============================] - 7s 64ms/step - loss: 0.1141\n",
      "Validation: normalized_discounted_cumulative_gain@3(0.0): 0.5325633026513968 - normalized_discounted_cumulative_gain@5(0.0): 0.5963819803369752 - mean_average_precision(0.0): 0.5585727344895254\n",
      "Epoch 7/30\n",
      "102/102 [==============================] - 6s 58ms/step - loss: 0.0946\n",
      "Validation: normalized_discounted_cumulative_gain@3(0.0): 0.5220955262071576 - normalized_discounted_cumulative_gain@5(0.0): 0.5857772494925884 - mean_average_precision(0.0): 0.5418055449097254\n",
      "Epoch 8/30\n",
      "102/102 [==============================] - 6s 57ms/step - loss: 0.0880\n",
      "Validation: normalized_discounted_cumulative_gain@3(0.0): 0.5149001704663267 - normalized_discounted_cumulative_gain@5(0.0): 0.5860970904275107 - mean_average_precision(0.0): 0.5444521786105977\n",
      "Epoch 9/30\n",
      "102/102 [==============================] - 6s 57ms/step - loss: 0.0685\n",
      "Validation: normalized_discounted_cumulative_gain@3(0.0): 0.5051562002386681 - normalized_discounted_cumulative_gain@5(0.0): 0.5758461238597171 - mean_average_precision(0.0): 0.5379359669521621\n",
      "Epoch 10/30\n",
      "102/102 [==============================] - 6s 60ms/step - loss: 0.0532\n",
      "Validation: normalized_discounted_cumulative_gain@3(0.0): 0.5251748321792109 - normalized_discounted_cumulative_gain@5(0.0): 0.5813420758297382 - mean_average_precision(0.0): 0.5417493476642768\n",
      "Epoch 11/30\n",
      "102/102 [==============================] - 6s 60ms/step - loss: 0.0456\n",
      "Validation: normalized_discounted_cumulative_gain@3(0.0): 0.518846822964292 - normalized_discounted_cumulative_gain@5(0.0): 0.587350935475258 - mean_average_precision(0.0): 0.5435594456769065\n",
      "Epoch 12/30\n",
      "102/102 [==============================] - 6s 56ms/step - loss: 0.0373\n",
      "Validation: normalized_discounted_cumulative_gain@3(0.0): 0.5316425164926293 - normalized_discounted_cumulative_gain@5(0.0): 0.59183514793258 - mean_average_precision(0.0): 0.5586727006675621\n",
      "Epoch 13/30\n",
      "102/102 [==============================] - 6s 54ms/step - loss: 0.0316\n",
      "Validation: normalized_discounted_cumulative_gain@3(0.0): 0.5062977825691126 - normalized_discounted_cumulative_gain@5(0.0): 0.5789543752522672 - mean_average_precision(0.0): 0.5400833443179233\n",
      "Epoch 14/30\n",
      "102/102 [==============================] - 6s 58ms/step - loss: 0.0329\n",
      "Validation: normalized_discounted_cumulative_gain@3(0.0): 0.5099897445766575 - normalized_discounted_cumulative_gain@5(0.0): 0.575749511498919 - mean_average_precision(0.0): 0.5408964749778227\n",
      "Epoch 15/30\n",
      "102/102 [==============================] - 6s 56ms/step - loss: 0.0332\n",
      "Validation: normalized_discounted_cumulative_gain@3(0.0): 0.48618166843811983 - normalized_discounted_cumulative_gain@5(0.0): 0.559046936006361 - mean_average_precision(0.0): 0.5201034435835254\n",
      "Epoch 16/30\n",
      "102/102 [==============================] - 6s 57ms/step - loss: 0.0390\n",
      "Validation: normalized_discounted_cumulative_gain@3(0.0): 0.48375579631623095 - normalized_discounted_cumulative_gain@5(0.0): 0.5594794888936786 - mean_average_precision(0.0): 0.5199962043922688\n",
      "Epoch 17/30\n",
      "102/102 [==============================] - 6s 55ms/step - loss: 0.0269\n",
      "Validation: normalized_discounted_cumulative_gain@3(0.0): 0.49472379713296977 - normalized_discounted_cumulative_gain@5(0.0): 0.5635753543137563 - mean_average_precision(0.0): 0.5290448315439008\n",
      "Epoch 18/30\n",
      "102/102 [==============================] - 6s 57ms/step - loss: 0.0305\n",
      "Validation: normalized_discounted_cumulative_gain@3(0.0): 0.48584293759064384 - normalized_discounted_cumulative_gain@5(0.0): 0.5582637299352535 - mean_average_precision(0.0): 0.5230716183505011\n",
      "Epoch 19/30\n",
      "102/102 [==============================] - 6s 64ms/step - loss: 0.0216\n",
      "Validation: normalized_discounted_cumulative_gain@3(0.0): 0.4807117506040963 - normalized_discounted_cumulative_gain@5(0.0): 0.5592655258097966 - mean_average_precision(0.0): 0.5218040510941717\n",
      "Epoch 20/30\n",
      "102/102 [==============================] - 6s 57ms/step - loss: 0.0159\n",
      "Validation: normalized_discounted_cumulative_gain@3(0.0): 0.4942316595022065 - normalized_discounted_cumulative_gain@5(0.0): 0.5694736082017954 - mean_average_precision(0.0): 0.532214090560732\n",
      "Epoch 21/30\n",
      "102/102 [==============================] - 6s 63ms/step - loss: 0.0173\n",
      "Validation: normalized_discounted_cumulative_gain@3(0.0): 0.4961821931154189 - normalized_discounted_cumulative_gain@5(0.0): 0.5676042501339682 - mean_average_precision(0.0): 0.5302215727919671\n",
      "Epoch 22/30\n",
      "102/102 [==============================] - 6s 56ms/step - loss: 0.0269\n",
      "Validation: normalized_discounted_cumulative_gain@3(0.0): 0.49122167057191135 - normalized_discounted_cumulative_gain@5(0.0): 0.5652057616087813 - mean_average_precision(0.0): 0.5271601841561819\n",
      "Epoch 23/30\n",
      "102/102 [==============================] - 6s 60ms/step - loss: 0.0267\n",
      "Validation: normalized_discounted_cumulative_gain@3(0.0): 0.485943017819698 - normalized_discounted_cumulative_gain@5(0.0): 0.5596227552170613 - mean_average_precision(0.0): 0.5187560689668843\n",
      "Epoch 24/30\n",
      "102/102 [==============================] - 6s 55ms/step - loss: 0.0191\n",
      "Validation: normalized_discounted_cumulative_gain@3(0.0): 0.496908533676455 - normalized_discounted_cumulative_gain@5(0.0): 0.5687863118116 - mean_average_precision(0.0): 0.5295158622426228\n",
      "Epoch 25/30\n",
      "102/102 [==============================] - 7s 68ms/step - loss: 0.0281\n",
      "Validation: normalized_discounted_cumulative_gain@3(0.0): 0.48803228428537415 - normalized_discounted_cumulative_gain@5(0.0): 0.5619480195601665 - mean_average_precision(0.0): 0.518963346430932\n",
      "Epoch 26/30\n",
      "102/102 [==============================] - 5s 53ms/step - loss: 0.0179\n",
      "Validation: normalized_discounted_cumulative_gain@3(0.0): 0.4933256603528848 - normalized_discounted_cumulative_gain@5(0.0): 0.5663889380532198 - mean_average_precision(0.0): 0.5266882840429057\n",
      "Epoch 27/30\n",
      "102/102 [==============================] - 5s 52ms/step - loss: 0.0149\n",
      "Validation: normalized_discounted_cumulative_gain@3(0.0): 0.49366905073607953 - normalized_discounted_cumulative_gain@5(0.0): 0.5672293569709002 - mean_average_precision(0.0): 0.5292926045476114\n",
      "Epoch 28/30\n",
      "102/102 [==============================] - 6s 54ms/step - loss: 0.0131\n",
      "Validation: normalized_discounted_cumulative_gain@3(0.0): 0.49275404313183735 - normalized_discounted_cumulative_gain@5(0.0): 0.5715760465784034 - mean_average_precision(0.0): 0.5306233606065879\n",
      "Epoch 29/30\n",
      "102/102 [==============================] - 6s 59ms/step - loss: 0.0175\n",
      "Validation: normalized_discounted_cumulative_gain@3(0.0): 0.49788846001877995 - normalized_discounted_cumulative_gain@5(0.0): 0.5726090028280708 - mean_average_precision(0.0): 0.5330005342289459\n",
      "Epoch 30/30\n",
      "102/102 [==============================] - 5s 53ms/step - loss: 0.0106\n",
      "Validation: normalized_discounted_cumulative_gain@3(0.0): 0.4923222777820605 - normalized_discounted_cumulative_gain@5(0.0): 0.5705180171208117 - mean_average_precision(0.0): 0.5252744280198036\n"
     ]
    }
   ],
   "source": [
    "history = model.fit_generator(train_generator, epochs=30, callbacks=[evaluate], workers=4, use_multiprocessing=True)"
   ]
  },
  {
   "cell_type": "raw",
   "metadata": {},
   "source": [
    "Use this function to update the README.md with a better set of parameters.\n",
    "Make sure you delete the correct section of the README.md before calling this function."
   ]
  },
  {
   "cell_type": "code",
   "execution_count": 12,
   "metadata": {},
   "outputs": [],
   "source": [
    "append_params_to_readme(model)"
   ]
  }
 ],
 "metadata": {
  "kernelspec": {
   "display_name": "Python 3",
   "language": "python",
   "name": "python3"
  },
  "language_info": {
   "codemirror_mode": {
    "name": "ipython",
    "version": 3
   },
   "file_extension": ".py",
   "mimetype": "text/x-python",
   "name": "python",
   "nbconvert_exporter": "python",
   "pygments_lexer": "ipython3",
   "version": "3.6.5"
  }
 },
 "nbformat": 4,
 "nbformat_minor": 2
}
